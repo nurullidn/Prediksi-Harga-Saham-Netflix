{
  "nbformat": 4,
  "nbformat_minor": 0,
  "metadata": {
    "colab": {
      "provenance": []
    },
    "kernelspec": {
      "name": "python3",
      "display_name": "Python 3"
    },
    "language_info": {
      "name": "python"
    }
  },
  "cells": [
    {
      "cell_type": "markdown",
      "source": [
        "# **Prediksi Harga Saham Netflix Menurut Data dari 5 Februari 2018 hingga 5 Februari 2022**"
      ],
      "metadata": {
        "id": "FtJ1T0O8X_Df"
      }
    },
    {
      "cell_type": "markdown",
      "source": [
        "# Business Understanding"
      ],
      "metadata": {
        "id": "9JNcWH2tY0Jx"
      }
    },
    {
      "cell_type": "markdown",
      "source": [
        "**Business Objective**\n",
        "\n",
        "  Tujuan bisnis dalam memprediksi harga saham Netflix adalah untuk membantu investor membuat keputusan investasi yang lebih baik. Dengan memeriksa data historis, kita mencoba untuk mengatakan kepada mereka bagaimana harga saham Netflix mungkin akan berubah di masa depan.\n",
        "\n",
        "**Assess Situation**\n",
        "\n",
        "  Situasi bisnis yang mendasari Prediksi ini adalah Prediksi tidak selalu benar. Jadi, selain bergantung kepada hasil prediksi yang tidak pasti, investor juga perlu melakukan penelitian tambahan sebelum membuat keputusan besar. Dengan informasi yang lebih baik, mereka bisa membuat keputusan investasi yang lebih baik pula.\n",
        "\n",
        "**Data Mining Goals**\n",
        "\n",
        "  1) Memberikan panduan yang jelas kepada investor agar mereka dapat membuat keputusan investasi yang lebih cerdas terkait dengan saham Netflix.\n",
        "\n",
        "  2) Membangun model prediksi yang andal untuk membantu investor mengantisipasi dengan lebih baik perubahan harga saham Netflix di masa mendatang.\n",
        "\n",
        "  3) Membantu investor dalam merencanakan strategi perdagangan yang dapat meminimalkan risiko investasi dan memaksimalkan potensi keuntungan.\n",
        "\n",
        "  4) Memberikan informasi tambahan yang diperlukan kepada investor sehingga mereka dapat merasa lebih percaya diri dalam membuat keputusan investasi yang tepat.\n",
        "\n",
        "  5) Menghadirkan wawasan yang mendalam tentang faktor-faktor yang memengaruhi harga saham Netflix untuk mendukung investor dalam membuat keputusan yang lebih cerdas dan terinformasi.\n",
        "\n",
        "**Project Plan**\n",
        "    \n",
        " Rencana proyek mencakup beberapa langkah. Langkah awal melibatkan pengumpulan data harga saham dan data fundamental Netflix, yang kemudian dibersihkan dan diproses untuk analisis lebih lanjut. Setelah itu, dilakukan eksplorasi tren dan pola dalam data historis serta analisis faktor eksternal yang mempengaruhi harga saham. Model prediktif dipilih dan dilatih menggunakan data historis, yang kemudian divalidasi untuk meningkatkan ketepatan prediksi. Model tersebut kemudian diimplementasikan ke lingkungan produksi dan dipantau secara berkala untuk memastikan kinerjanya tetap optimal. Laporan rutin disusun untuk merangkum hasil analisis dan prediksi, serta presentasi hasil disiapkan untuk berkomunikasi dengan pemangku kepentingan perusahaan. Selain itu, manajemen risiko juga menjadi fokus dengan identifikasi dan mitigasi risiko yang terkait dengan proyek ini. Evaluasi proyek dilakukan secara berkala untuk memastikan bahwa hasilnya bermanfaat bagi perusahaan dan dapat mendukung pengambilan keputusan investasi yang lebih cerdas.\n",
        "\n",
        "\n",
        "\n"
      ],
      "metadata": {
        "id": "MK1UcamT9SBC"
      }
    }
  ]
}