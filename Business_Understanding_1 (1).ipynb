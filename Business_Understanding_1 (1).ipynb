{
  "nbformat": 4,
  "nbformat_minor": 0,
  "metadata": {
    "colab": {
      "provenance": []
    },
    "kernelspec": {
      "name": "python3",
      "display_name": "Python 3"
    },
    "language_info": {
      "name": "python"
    }
  },
  "cells": [
    {
      "cell_type": "markdown",
      "source": [
        "**Business Understanding**\n",
        "\n",
        "1. Tujuan bisnis\n",
        "\n",
        "      tujuan bisnis dalam memprediksi harga saham Netflix adalah untuk membantu investor membuat keputusan investasi yang lebih baik. Dengan memeriksa data historis, kita mencoba untuk mengatakan kepada mereka bagaimana harga saham Netflix mungkin akan berubah di masa depan.\n",
        "\n",
        "2. Menilai Situasi\n",
        "\n",
        "      situasi bisnis yang mendasari Prediksi ini adalah Prediksi tidak selalu benar. Jadi, selain bergantung kepada hasil prediksi yang tidak pasti, investor juga perlu melakukan penelitian tambahan sebelum membuat keputusan besar. Dengan informasi yang lebih baik, mereka bisa membuat keputusan investasi yang lebih baik pula.\n",
        "\n",
        "3. Data Mining Goals\n",
        "\n",
        "    1) Memberikan panduan yang jelas kepada investor agar mereka dapat membuat keputusan investasi yang lebih cerdas terkait dengan saham Netflix.\n",
        "\n",
        "    2) Membangun model prediksi yang andal untuk membantu investor mengantisipasi dengan lebih baik perubahan harga saham Netflix di masa mendatang.\n",
        "\n",
        "    3) Membantu investor dalam merencanakan strategi perdagangan yang dapat meminimalkan risiko investasi dan memaksimalkan potensi keuntungan.\n",
        "\n",
        "    4) Memberikan informasi tambahan yang diperlukan kepada investor sehingga mereka dapat merasa lebih percaya diri dalam membuat keputusan investasi yang tepat.\n",
        "\n",
        "    5) Menghadirkan wawasan yang mendalam tentang faktor-faktor yang memengaruhi harga saham Netflix untuk mendukung investor dalam membuat keputusan yang lebih cerdas dan terinformasi.\n",
        "\n",
        "4. project plan\n",
        "    \n",
        "    rencana proyek untuk menganalisis dataset sebagai berikut:\n",
        "    \n",
        "  A. Persiapan Awal\n",
        "    \n",
        "     a. Kumpulkan data historis dan fundamental Netflix.\n",
        "    \n",
        "     b. Pahami kebutuhan investor dan tujuan bisnis.\n",
        "     \n",
        "  B. Pengolahan Data\n",
        "\n",
        "     a. Bersihkan dan transformasikan data.\n",
        "\n",
        "     b. Identifikasi tren dan faktor-faktor eksternal.\n",
        "\n",
        "  C. Pengembangan Model\n",
        "\n",
        "     a. Pilih dan latih model prediksi.\n",
        "\n",
        "     b. Validasi dan optimalkan model.\n",
        "\n",
        "  D. Implementasi dan Monitoring\n",
        "\n",
        "     a. Terapkan model ke lingkungan produksi.\n",
        "\n",
        "     b. Monitor kinerja dan perbarui model secara berkala.\n",
        "  E. Pelaporan dan Komunikasi\n",
        "\n",
        "     a. Sajikan hasil prediksi secara teratur.\n",
        "\n",
        "     b. Komunikasikan wawasan kepada investor.\n",
        "\n",
        "  F. Manajemen Risiko\n",
        "\n",
        "     a. Identifikasi dan kelola risiko terkait prediksi.\n",
        "\n",
        "\n",
        "\n"
      ],
      "metadata": {
        "id": "MK1UcamT9SBC"
      }
    }
  ]
}