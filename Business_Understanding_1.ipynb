{
  "nbformat": 4,
  "nbformat_minor": 0,
  "metadata": {
    "colab": {
      "provenance": []
    },
    "kernelspec": {
      "name": "python3",
      "display_name": "Python 3"
    },
    "language_info": {
      "name": "python"
    }
  },
  "cells": [
    {
      "cell_type": "markdown",
      "source": [
        "# **Prediksi Harga Saham Netflix Menurut Data dari 5 Februari 2018 hingga 5 Februari 2022**"
      ],
      "metadata": {
        "id": "FtJ1T0O8X_Df"
      }
    },
    {
      "cell_type": "markdown",
      "source": [
        "# Business Understanding"
      ],
      "metadata": {
        "id": "9JNcWH2tY0Jx"
      }
    },
    {
      "cell_type": "markdown",
      "source": [
        "**Business Objective**\n",
        "\n",
        "  Tujuan bisnis dalam memprediksi harga saham Netflix adalah untuk membantu investor membuat keputusan investasi yang lebih baik. Dengan memeriksa data historis, kita mencoba untuk mengatakan kepada mereka bagaimana harga saham Netflix mungkin akan berubah di masa depan.\n",
        "\n",
        "**Assess Situation**\n",
        "\n",
        "  Situasi bisnis yang mendasari Prediksi ini adalah Prediksi tidak selalu benar. Jadi, selain bergantung kepada hasil prediksi yang tidak pasti, investor juga perlu melakukan penelitian tambahan sebelum membuat keputusan besar. Dengan informasi yang lebih baik, mereka bisa membuat keputusan investasi yang lebih baik pula.\n",
        "\n",
        "**Data Mining Goals**\n",
        "\n",
        "  1) Memberikan panduan yang jelas kepada investor agar mereka dapat membuat keputusan investasi yang lebih cerdas terkait dengan saham Netflix.\n",
        "\n",
        "  2) Membangun model prediksi yang andal untuk membantu investor mengantisipasi dengan lebih baik perubahan harga saham Netflix di masa mendatang.\n",
        "\n",
        "  3) Membantu investor dalam merencanakan strategi perdagangan yang dapat meminimalkan risiko investasi dan memaksimalkan potensi keuntungan.\n",
        "\n",
        "  4) Memberikan informasi tambahan yang diperlukan kepada investor sehingga mereka dapat merasa lebih percaya diri dalam membuat keputusan investasi yang tepat.\n",
        "\n",
        "  5) Menghadirkan wawasan yang mendalam tentang faktor-faktor yang memengaruhi harga saham Netflix untuk mendukung investor dalam membuat keputusan yang lebih cerdas dan terinformasi.\n",
        "\n",
        "**project plan**\n",
        "    \n",
        "  rencana proyek untuk menganalisis dataset sebagai berikut:\n",
        "  A. Persiapan Awal\n",
        "    \n",
        "  1) Kumpulkan data historis dan fundamental Netflix.\n",
        "    \n",
        "  2) Pahami kebutuhan investor dan tujuan bisnis.\n",
        "     \n",
        "  B. Pengolahan Data\n",
        "\n",
        "  1) Bersihkan dan transformasikan data.\n",
        "\n",
        "  2) Identifikasi tren dan faktor-faktor eksternal.\n",
        "\n",
        "  C. Pengembangan Model\n",
        "\n",
        "  1) Pilih dan latih model prediksi.\n",
        "\n",
        "  2) Validasi dan optimalkan model.\n",
        "\n",
        "  D. Implementasi dan Monitoring\n",
        "\n",
        "  1) Terapkan model ke lingkungan produksi.\n",
        "\n",
        "  2) Monitor kinerja dan perbarui model secara berkala.\n",
        "  \n",
        "  E. Pelaporan dan Komunikasi\n",
        "\n",
        "  1) Sajikan hasil prediksi secara teratur.\n",
        "\n",
        "  2) Komunikasikan wawasan kepada investor.\n",
        "\n",
        "  F. Manajemen Risiko\n",
        "\n",
        "  1) Identifikasi dan kelola risiko terkait prediksi.\n",
        "\n",
        "\n",
        "\n"
      ],
      "metadata": {
        "id": "MK1UcamT9SBC"
      }
    }
  ]
}